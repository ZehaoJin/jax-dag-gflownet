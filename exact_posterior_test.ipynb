{
 "cells": [
  {
   "cell_type": "code",
   "execution_count": 1,
   "metadata": {},
   "outputs": [],
   "source": [
    "%load_ext autoreload\n",
    "%autoreload 2"
   ]
  },
  {
   "cell_type": "code",
   "execution_count": 2,
   "metadata": {},
   "outputs": [],
   "source": [
    "from dag_gflownet.scores.base import BaseScore\n",
    "from dag_gflownet.scores.priors import UniformPrior\n",
    "from dag_gflownet.scores.bge_score import BGeScore\n",
    "import numpy as np\n",
    "import pandas as pd\n",
    "import networkx as nx\n",
    "from tqdm import tqdm"
   ]
  },
  {
   "cell_type": "code",
   "execution_count": 3,
   "metadata": {},
   "outputs": [],
   "source": [
    "data = pd.read_csv('/home/zehao/causal/jax-dag-gflownet/R_e_data/causal_BH_ell.csv')\n",
    "data = (data - data.mean()) / data.std()  # Standardize data"
   ]
  },
  {
   "cell_type": "code",
   "execution_count": 4,
   "metadata": {},
   "outputs": [],
   "source": [
    "bge = BGeScore(data, UniformPrior())"
   ]
  },
  {
   "cell_type": "code",
   "execution_count": 5,
   "metadata": {},
   "outputs": [],
   "source": [
    "# generate a random DAG of 7 nodes\n",
    "G = nx.fast_gnp_random_graph(7, 0.5, directed=True)"
   ]
  },
  {
   "cell_type": "code",
   "execution_count": 6,
   "metadata": {},
   "outputs": [
    {
     "data": {
      "text/plain": [
       "array([[0., 1., 1., 0., 1., 0., 1.],\n",
       "       [0., 0., 0., 0., 0., 0., 0.],\n",
       "       [0., 1., 0., 1., 0., 0., 1.],\n",
       "       [0., 1., 0., 0., 0., 1., 1.],\n",
       "       [0., 1., 1., 1., 0., 1., 0.],\n",
       "       [1., 1., 0., 1., 1., 0., 1.],\n",
       "       [1., 1., 1., 0., 0., 1., 0.]])"
      ]
     },
     "execution_count": 6,
     "metadata": {},
     "output_type": "execute_result"
    }
   ],
   "source": [
    "# show the adjacency matrix\n",
    "nx.to_numpy_array(G)"
   ]
  },
  {
   "cell_type": "code",
   "execution_count": 7,
   "metadata": {},
   "outputs": [
    {
     "ename": "AttributeError",
     "evalue": "'BGeScore' object has no attribute '_cache_local_scores'",
     "output_type": "error",
     "traceback": [
      "\u001b[0;31m---------------------------------------------------------------------------\u001b[0m",
      "\u001b[0;31mAttributeError\u001b[0m                            Traceback (most recent call last)",
      "Cell \u001b[0;32mIn[7], line 1\u001b[0m\n\u001b[0;32m----> 1\u001b[0m \u001b[43mbge\u001b[49m\u001b[38;5;241;43m.\u001b[39;49m\u001b[43mscore\u001b[49m\u001b[43m(\u001b[49m\u001b[43mG\u001b[49m\u001b[43m)\u001b[49m\n",
      "File \u001b[0;32m~/causal/jax-dag-gflownet/dag_gflownet/scores/base.py:63\u001b[0m, in \u001b[0;36mBaseScore.score\u001b[0;34m(self, graph)\u001b[0m\n\u001b[1;32m     61\u001b[0m score \u001b[38;5;241m=\u001b[39m \u001b[38;5;241m0\u001b[39m\n\u001b[1;32m     62\u001b[0m \u001b[38;5;28;01mfor\u001b[39;00m node \u001b[38;5;129;01min\u001b[39;00m graph\u001b[38;5;241m.\u001b[39mnodes():\n\u001b[0;32m---> 63\u001b[0m     _, local_score \u001b[38;5;241m=\u001b[39m \u001b[38;5;28;43mself\u001b[39;49m\u001b[38;5;241;43m.\u001b[39;49m\u001b[43mcache_local_scores\u001b[49m(\n\u001b[1;32m     64\u001b[0m         node, \u001b[38;5;28mtuple\u001b[39m(graph\u001b[38;5;241m.\u001b[39mpredecessors(node)))\n\u001b[1;32m     65\u001b[0m     score \u001b[38;5;241m+\u001b[39m\u001b[38;5;241m=\u001b[39m local_score\u001b[38;5;241m.\u001b[39mscore \u001b[38;5;241m+\u001b[39m local_score\u001b[38;5;241m.\u001b[39mprior\n\u001b[1;32m     66\u001b[0m \u001b[38;5;28;01mreturn\u001b[39;00m score\n",
      "File \u001b[0;32m~/causal/jax-dag-gflownet/dag_gflownet/scores/base.py:55\u001b[0m, in \u001b[0;36mBaseScore.cache_local_scores\u001b[0;34m(self)\u001b[0m\n\u001b[1;32m     53\u001b[0m \u001b[38;5;129m@property\u001b[39m\n\u001b[1;32m     54\u001b[0m \u001b[38;5;28;01mdef\u001b[39;00m \u001b[38;5;21mcache_local_scores\u001b[39m(\u001b[38;5;28mself\u001b[39m):\n\u001b[0;32m---> 55\u001b[0m     \u001b[38;5;28;01mif\u001b[39;00m \u001b[38;5;28;43mself\u001b[39;49m\u001b[38;5;241;43m.\u001b[39;49m\u001b[43m_cache_local_scores\u001b[49m \u001b[38;5;129;01mis\u001b[39;00m \u001b[38;5;28;01mNone\u001b[39;00m:\n\u001b[1;32m     56\u001b[0m         \u001b[38;5;28mself\u001b[39m\u001b[38;5;241m.\u001b[39m_cache_local_scores \u001b[38;5;241m=\u001b[39m lru_cache()(\u001b[38;5;28mself\u001b[39m\u001b[38;5;241m.\u001b[39mget_local_scores)\n\u001b[1;32m     57\u001b[0m     \u001b[38;5;28;01mreturn\u001b[39;00m \u001b[38;5;28mself\u001b[39m\u001b[38;5;241m.\u001b[39m_cache_local_scores\n",
      "\u001b[0;31mAttributeError\u001b[0m: 'BGeScore' object has no attribute '_cache_local_scores'"
     ]
    }
   ],
   "source": [
    "bge.score(G)"
   ]
  },
  {
   "cell_type": "code",
   "execution_count": 5,
   "metadata": {},
   "outputs": [],
   "source": [
    "correct_num_dags=[1, 1, 3, 25, 543, 29281, 3781503, 1138779265]"
   ]
  },
  {
   "cell_type": "code",
   "execution_count": 6,
   "metadata": {},
   "outputs": [],
   "source": [
    "import itertools"
   ]
  },
  {
   "cell_type": "code",
   "execution_count": 10,
   "metadata": {},
   "outputs": [],
   "source": [
    "def generate_all_dags_with_adj(n):\n",
    "    graphs = []\n",
    "    for adj_mat in tqdm(itertools.product([0, 1], repeat=n**2), total=2**(n**2)):\n",
    "        adj_mat = np.array(adj_mat).reshape(n, n)\n",
    "        G = nx.from_numpy_array(adj_mat, create_using=nx.DiGraph)\n",
    "        if nx.is_directed_acyclic_graph(G):\n",
    "            graphs.append(G)\n",
    "\n",
    "    return graphs"
   ]
  },
  {
   "cell_type": "code",
   "execution_count": 65,
   "metadata": {},
   "outputs": [
    {
     "name": "stderr",
     "output_type": "stream",
     "text": [
      "100%|██████████| 512/512 [00:00<00:00, 27975.87it/s]\n"
     ]
    },
    {
     "data": {
      "text/plain": [
       "(25, 25)"
      ]
     },
     "execution_count": 65,
     "metadata": {},
     "output_type": "execute_result"
    }
   ],
   "source": [
    "len(generate_all_dags_with_adj(3)), correct_num_dags[3]"
   ]
  },
  {
   "cell_type": "code",
   "execution_count": 66,
   "metadata": {},
   "outputs": [
    {
     "name": "stderr",
     "output_type": "stream",
     "text": [
      "100%|██████████| 65536/65536 [00:01<00:00, 33235.30it/s]\n"
     ]
    },
    {
     "data": {
      "text/plain": [
       "(543, 543)"
      ]
     },
     "execution_count": 66,
     "metadata": {},
     "output_type": "execute_result"
    }
   ],
   "source": [
    "len(generate_all_dags_with_adj(4)), correct_num_dags[4]"
   ]
  },
  {
   "cell_type": "code",
   "execution_count": null,
   "metadata": {},
   "outputs": [
    {
     "name": "stderr",
     "output_type": "stream",
     "text": [
      "  0%|          | 56732/562949953421312 [00:02<5677483:28:57, 27543.01it/s]Exception ignored in: <bound method IPythonKernel._clean_thread_parent_frames of <ipykernel.ipkernel.IPythonKernel object at 0x7fc487f25010>>\n",
      "Traceback (most recent call last):\n",
      "  File \"/home/zehao/anaconda3/envs/causal/lib/python3.12/site-packages/ipykernel/ipkernel.py\", line 770, in _clean_thread_parent_frames\n",
      "    def _clean_thread_parent_frames(\n",
      "\n",
      "KeyboardInterrupt: \n",
      "  0%|          | 364984/562949953421312 [00:13<5971303:46:33, 26187.75it/s]"
     ]
    }
   ],
   "source": [
    "len(generate_all_dags_with_adj(7))\n",
    "## it will take way too long if starting from adjacency matrix."
   ]
  },
  {
   "cell_type": "code",
   "execution_count": 59,
   "metadata": {},
   "outputs": [],
   "source": [
    "# let's try to start from edges\n",
    "from itertools import combinations\n",
    "\n",
    "def contains_reverse_pairs(tup):\n",
    "    # Convert each element into a tuple if not already one, then into a set for efficient searching\n",
    "    seen = set()\n",
    "    \n",
    "    for item in tup:\n",
    "        # Check if the reverse of the current item exists in the set\n",
    "        if (item[1], item[0]) in seen:\n",
    "            return True  # A reverse pair exists\n",
    "        seen.add(item)  # Add the current item to the set for future checks\n",
    "    \n",
    "    return False  # No reverse pairs found\n",
    "            \n",
    "\n",
    "def generate_all_dags(n):\n",
    "    \"\"\"Generate all possible DAGs for n labeled nodes using networkx.\"\"\"\n",
    "    G = nx.DiGraph()\n",
    "    G.add_nodes_from(range(n))  # Add n nodes to the graph\n",
    "    all_edges = [(i, j) for i in range(n) for j in range(n) if i != j]\n",
    "    all_dags = np.zeros((correct_num_dags[n], n, n),dtype=np.int8)\n",
    "    ind=0\n",
    "\n",
    "    for r in tqdm(range(len(all_edges) + 1)):\n",
    "        for edges in combinations(all_edges, r):\n",
    "            if not contains_reverse_pairs(edges):\n",
    "                G.clear_edges()\n",
    "                G.add_edges_from(edges)\n",
    "                if nx.is_directed_acyclic_graph(G):\n",
    "                    # convert to numpy array\n",
    "                    adj_mat = nx.to_numpy_array(G)\n",
    "                    # make sure the datatype is int \n",
    "                    #adj_mat = adj_mat.astype(int)\n",
    "                    \n",
    "                    all_dags[ind] = adj_mat\n",
    "                    ind+=1\n",
    "\n",
    "    return all_dags"
   ]
  },
  {
   "cell_type": "code",
   "execution_count": 62,
   "metadata": {},
   "outputs": [
    {
     "name": "stderr",
     "output_type": "stream",
     "text": [
      "100%|██████████| 7/7 [00:00<00:00, 2256.04it/s]\n"
     ]
    },
    {
     "data": {
      "text/plain": [
       "(25, 25)"
      ]
     },
     "execution_count": 62,
     "metadata": {},
     "output_type": "execute_result"
    }
   ],
   "source": [
    "n = 3\n",
    "dags = generate_all_dags(n)\n",
    "len(dags), correct_num_dags[n]"
   ]
  },
  {
   "cell_type": "code",
   "execution_count": 63,
   "metadata": {},
   "outputs": [
    {
     "name": "stderr",
     "output_type": "stream",
     "text": [
      "100%|██████████| 13/13 [00:00<00:00, 477.38it/s]\n"
     ]
    },
    {
     "data": {
      "text/plain": [
       "(543, 543)"
      ]
     },
     "execution_count": 63,
     "metadata": {},
     "output_type": "execute_result"
    }
   ],
   "source": [
    "n = 4\n",
    "dags = generate_all_dags(n)\n",
    "len(dags), correct_num_dags[n]"
   ]
  },
  {
   "cell_type": "code",
   "execution_count": 64,
   "metadata": {},
   "outputs": [
    {
     "name": "stderr",
     "output_type": "stream",
     "text": [
      "100%|██████████| 21/21 [00:01<00:00, 10.93it/s]\n"
     ]
    },
    {
     "data": {
      "text/plain": [
       "(29281, 29281)"
      ]
     },
     "execution_count": 64,
     "metadata": {},
     "output_type": "execute_result"
    }
   ],
   "source": [
    "n = 5\n",
    "dags = generate_all_dags(n)\n",
    "len(dags), correct_num_dags[n]"
   ]
  },
  {
   "cell_type": "code",
   "execution_count": 65,
   "metadata": {},
   "outputs": [
    {
     "name": "stderr",
     "output_type": "stream",
     "text": [
      "100%|██████████| 31/31 [17:23<00:00, 33.66s/it]\n"
     ]
    },
    {
     "data": {
      "text/plain": [
       "(3781503, 3781503)"
      ]
     },
     "execution_count": 65,
     "metadata": {},
     "output_type": "execute_result"
    }
   ],
   "source": [
    "n = 6\n",
    "dags = generate_all_dags(n)\n",
    "len(dags), correct_num_dags[n]"
   ]
  },
  {
   "cell_type": "code",
   "execution_count": null,
   "metadata": {},
   "outputs": [],
   "source": []
  }
 ],
 "metadata": {
  "kernelspec": {
   "display_name": "causal",
   "language": "python",
   "name": "python3"
  },
  "language_info": {
   "codemirror_mode": {
    "name": "ipython",
    "version": 3
   },
   "file_extension": ".py",
   "mimetype": "text/x-python",
   "name": "python",
   "nbconvert_exporter": "python",
   "pygments_lexer": "ipython3",
   "version": "3.12.1"
  }
 },
 "nbformat": 4,
 "nbformat_minor": 2
}
